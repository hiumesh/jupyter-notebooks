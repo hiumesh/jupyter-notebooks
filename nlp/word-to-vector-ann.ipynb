{
 "cells": [
  {
   "cell_type": "code",
   "execution_count": null,
   "id": "1d864ac1",
   "metadata": {},
   "outputs": [],
   "source": [
    "%pip install gensim"
   ]
  },
  {
   "cell_type": "code",
   "execution_count": null,
   "id": "652e05d4",
   "metadata": {},
   "outputs": [],
   "source": [
    "import gensim.downloader as api\n",
    "\n",
    "wv = api.load(\"word2vec-google-news-300\")"
   ]
  },
  {
   "cell_type": "code",
   "execution_count": null,
   "id": "04fa5cf8",
   "metadata": {},
   "outputs": [],
   "source": [
    "vec_king = wv[\"king\"]\n",
    "print(vec_king)"
   ]
  },
  {
   "cell_type": "code",
   "execution_count": null,
   "id": "88561c09",
   "metadata": {},
   "outputs": [],
   "source": [
    "print(wv['man'])"
   ]
  },
  {
   "cell_type": "code",
   "execution_count": null,
   "id": "caedb467",
   "metadata": {},
   "outputs": [],
   "source": [
    "print(wv.most_similar(\"cricket\"))\n",
    "print(wv.most_similar(\"happy\"))"
   ]
  },
  {
   "cell_type": "code",
   "execution_count": null,
   "id": "1f90581d",
   "metadata": {},
   "outputs": [],
   "source": [
    "print(wv.similarity('king', 'queen'))"
   ]
  },
  {
   "cell_type": "code",
   "execution_count": null,
   "id": "51f858a7",
   "metadata": {},
   "outputs": [],
   "source": [
    "vec =  wv['king']-wv['man']+wv['woman']\n",
    "print(wv.most_similar([vec]))"
   ]
  }
 ],
 "metadata": {
  "kernelspec": {
   "display_name": "Python 3 (ipykernel)",
   "language": "python",
   "name": "python3"
  },
  "language_info": {
   "codemirror_mode": {
    "name": "ipython",
    "version": 3
   },
   "file_extension": ".py",
   "mimetype": "text/x-python",
   "name": "python",
   "nbconvert_exporter": "python",
   "pygments_lexer": "ipython3",
   "version": "3.12.4"
  }
 },
 "nbformat": 4,
 "nbformat_minor": 5
}
