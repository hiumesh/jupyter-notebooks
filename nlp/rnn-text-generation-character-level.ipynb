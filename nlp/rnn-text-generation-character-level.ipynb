{
 "cells": [
  {
   "cell_type": "code",
   "execution_count": 11,
   "id": "6c60caf4",
   "metadata": {},
   "outputs": [],
   "source": [
    "import tensorflow as tf\n",
    "\n",
    "import numpy as np\n",
    "from pathlib import Path\n",
    "from tensorflow.keras.utils import to_categorical\n",
    "from tensorflow.keras.models import Sequential\n",
    "from tensorflow.keras.layers import Embedding, SimpleRNN, Dense, Dropout\n",
    "from tensorflow.keras.preprocessing.sequence import pad_sequences\n",
    "from tensorflow.keras.callbacks import ModelCheckpoint"
   ]
  },
  {
   "cell_type": "code",
   "execution_count": 5,
   "id": "c0ae7e3d",
   "metadata": {},
   "outputs": [],
   "source": [
    "print(tf.__version__)\n",
    "print(dir(tf.keras))"
   ]
  },
  {
   "cell_type": "code",
   "execution_count": 6,
   "id": "3308938f",
   "metadata": {},
   "outputs": [],
   "source": [
    "text = (open(Path(\"C:\\\\Users\\\\daniu\\\\my_repos\\\\jupyter-notebooks\\\\input-dir\\\\wonderland.txt\")).read())\n",
    "text = text.lower()\n",
    "\n",
    "print(text)"
   ]
  },
  {
   "cell_type": "code",
   "execution_count": 7,
   "id": "108ac366",
   "metadata": {},
   "outputs": [],
   "source": [
    "characters = sorted(list(set(text)))\n",
    "\n",
    "n_to_char = {n:char for n, char in enumerate(characters)}\n",
    "char_to_n = {char:n for n, char in enumerate(characters)}\n",
    "\n",
    "vocab_size = len(characters)\n",
    "print(\"Number of unique characters: {}\".format(vocab_size))\n",
    "print(\"Characters: {}\".format(characters))\n",
    "print(\"Number to Character Map: {}\".format(n_to_char))\n",
    "print(\"Character to Number Map: {}\".format(char_to_n))"
   ]
  },
  {
   "cell_type": "code",
   "execution_count": 8,
   "id": "c4010c0f",
   "metadata": {},
   "outputs": [],
   "source": [
    "X = []\n",
    "Y = []\n",
    "\n",
    "length = len(text)\n",
    "seq_length = 10\n",
    "\n",
    "for i in range(0, length - seq_length, 1):\n",
    "  sequence = text[i:i + seq_length]\n",
    "  label = text[i + seq_length]\n",
    "  X.append([char_to_n[char] for char in sequence])\n",
    "  Y.append(char_to_n[label])\n",
    "\n",
    "print(\"Number of sequences: {}\".format(len(X)))\n",
    "print(\"First Sequence: {}\".format(X[0]))\n",
    "print(\"First Label: {}\".format(Y[0]))"
   ]
  },
  {
   "cell_type": "code",
   "execution_count": 9,
   "id": "df8c9e92",
   "metadata": {},
   "outputs": [],
   "source": [
    "X_modified = np.reshape(X, (len(X), seq_length, 1))\n",
    "print(X_modified[0])\n",
    "X_modified = X_modified / float(len(characters))\n",
    "print(X_modified[0])\n",
    "Y_modified = to_categorical(Y)\n",
    "print(Y_modified[0])"
   ]
  },
  {
   "cell_type": "code",
   "execution_count": 10,
   "id": "c346b2b7",
   "metadata": {},
   "outputs": [],
   "source": [
    "model = Sequential()\n",
    "model.add(SimpleRNN(400, input_shape=(X_modified.shape[1], X_modified.shape[2]), return_sequences=True))\n",
    "model.add(Dropout(0.2))\n",
    "model.add(SimpleRNN(400))\n",
    "model.add(Dropout(0.2))\n",
    "model.add(Dense(Y_modified.shape[1], activation='softmax'))"
   ]
  },
  {
   "cell_type": "code",
   "execution_count": 16,
   "id": "4f2f3fa3",
   "metadata": {},
   "outputs": [],
   "source": [
    "\n",
    "# load the network weights saved in the folder model_weights\n",
    "# filename = \"model_weights/gigantic-improvement-20-0.5606.hdf5\"\n",
    "# model.load_weights(filename)\n",
    "model.compile(loss='categorical_crossentropy', optimizer='adam')\n",
    "\n",
    "# define how model checkpoints are saved\n",
    "filepath = \"model_weights/gigantic-improvement-ctd20-{epoch:02d}-{loss:.4f}.keras\"\n",
    "checkpoint = ModelCheckpoint(filepath, monitor='loss', verbose=1, save_best_only=True, mode='min')\n",
    "callbacks_list = [checkpoint]"
   ]
  },
  {
   "cell_type": "code",
   "execution_count": 17,
   "id": "1babbb97",
   "metadata": {},
   "outputs": [],
   "source": [
    "model.fit(X_modified, Y_modified, epochs=10, batch_size=128, callbacks = callbacks_list)"
   ]
  },
  {
   "cell_type": "code",
   "execution_count": 18,
   "id": "926174ce",
   "metadata": {},
   "outputs": [],
   "source": [
    "\n",
    "start = 10   #random row from the X array\n",
    "string_mapped = list(X[start])\n",
    "full_string = [n_to_char[value] for value in string_mapped]\n",
    "\n",
    "# generating characters\n",
    "for i in range(400):\n",
    "    x = np.reshape(string_mapped,(1,len(string_mapped), 1))\n",
    "    x = x / float(len(characters))\n",
    "\n",
    "    pred_index = np.argmax(model.predict(x, verbose=0))\n",
    "    seq = [n_to_char[value] for value in string_mapped]\n",
    "    full_string.append(n_to_char[pred_index])\n",
    "\n",
    "    string_mapped.append(pred_index)\n",
    "    string_mapped = string_mapped[1:len(string_mapped)]"
   ]
  },
  {
   "cell_type": "code",
   "execution_count": 20,
   "id": "ae3c4056",
   "metadata": {},
   "outputs": [],
   "source": [
    "print(\"\".join(full_string))"
   ]
  }
 ],
 "metadata": {
  "kernelspec": {
   "display_name": "Python 3 (ipykernel)",
   "language": "python",
   "name": "python3"
  }
 },
 "nbformat": 4,
 "nbformat_minor": 5
}
